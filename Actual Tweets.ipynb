{
 "cells": [
  {
   "cell_type": "code",
   "execution_count": 6,
   "id": "46ff5575",
   "metadata": {},
   "outputs": [
    {
     "name": "stdout",
     "output_type": "stream",
     "text": [
      "Average length of each tweet is 216.0838625138595\n"
     ]
    }
   ],
   "source": [
    "import pandas as pd\n",
    "import numpy as np\n",
    "\n",
    "dataset = pd.read_csv('train_val.csv')\n",
    "l = np.array(dataset['tweet'].str.len())\n",
    "print(\"Average length of each tweet is\", np.mean(l))"
   ]
  },
  {
   "cell_type": "code",
   "execution_count": 8,
   "id": "2c6cfd28",
   "metadata": {},
   "outputs": [
    {
     "name": "stdout",
     "output_type": "stream",
     "text": [
      "<class 'pandas.core.frame.DataFrame'>\n",
      "RangeIndex: 9921 entries, 0 to 9920\n",
      "Data columns (total 3 columns):\n",
      " #   Column  Non-Null Count  Dtype \n",
      "---  ------  --------------  ----- \n",
      " 0   ID      9921 non-null   object\n",
      " 1   tweet   9921 non-null   object\n",
      " 2   labels  9921 non-null   object\n",
      "dtypes: object(3)\n",
      "memory usage: 232.6+ KB\n",
      "None\n"
     ]
    }
   ],
   "source": [
    "dataset.info()"
   ]
  },
  {
   "cell_type": "code",
   "execution_count": 9,
   "id": "d984fb0f",
   "metadata": {},
   "outputs": [
    {
     "data": {
      "text/html": [
       "<div>\n",
       "<style scoped>\n",
       "    .dataframe tbody tr th:only-of-type {\n",
       "        vertical-align: middle;\n",
       "    }\n",
       "\n",
       "    .dataframe tbody tr th {\n",
       "        vertical-align: top;\n",
       "    }\n",
       "\n",
       "    .dataframe thead th {\n",
       "        text-align: right;\n",
       "    }\n",
       "</style>\n",
       "<table border=\"1\" class=\"dataframe\">\n",
       "  <thead>\n",
       "    <tr style=\"text-align: right;\">\n",
       "      <th></th>\n",
       "      <th>ID</th>\n",
       "      <th>tweet</th>\n",
       "      <th>labels</th>\n",
       "    </tr>\n",
       "  </thead>\n",
       "  <tbody>\n",
       "    <tr>\n",
       "      <th>count</th>\n",
       "      <td>9921</td>\n",
       "      <td>9921</td>\n",
       "      <td>9921</td>\n",
       "    </tr>\n",
       "    <tr>\n",
       "      <th>unique</th>\n",
       "      <td>9921</td>\n",
       "      <td>9921</td>\n",
       "      <td>288</td>\n",
       "    </tr>\n",
       "    <tr>\n",
       "      <th>top</th>\n",
       "      <td>1296010336907038720t</td>\n",
       "      <td>@cath__kath AstraZeneca is made with the kidne...</td>\n",
       "      <td>side-effect</td>\n",
       "    </tr>\n",
       "    <tr>\n",
       "      <th>freq</th>\n",
       "      <td>1</td>\n",
       "      <td>1</td>\n",
       "      <td>2883</td>\n",
       "    </tr>\n",
       "  </tbody>\n",
       "</table>\n",
       "</div>"
      ],
      "text/plain": [
       "                          ID  \\\n",
       "count                   9921   \n",
       "unique                  9921   \n",
       "top     1296010336907038720t   \n",
       "freq                       1   \n",
       "\n",
       "                                                    tweet       labels  \n",
       "count                                                9921         9921  \n",
       "unique                                               9921          288  \n",
       "top     @cath__kath AstraZeneca is made with the kidne...  side-effect  \n",
       "freq                                                    1         2883  "
      ]
     },
     "execution_count": 9,
     "metadata": {},
     "output_type": "execute_result"
    }
   ],
   "source": [
    "dataset.describe()"
   ]
  },
  {
   "cell_type": "code",
   "execution_count": 11,
   "id": "c3ba74e8",
   "metadata": {},
   "outputs": [
    {
     "data": {
      "text/plain": [
       "(9921, 3)"
      ]
     },
     "execution_count": 11,
     "metadata": {},
     "output_type": "execute_result"
    }
   ],
   "source": [
    "dataset.shape"
   ]
  },
  {
   "cell_type": "code",
   "execution_count": 13,
   "id": "875fa09c",
   "metadata": {},
   "outputs": [
    {
     "data": {
      "text/plain": [
       "array(['conspiracy', 'conspiracy country',\n",
       "       'conspiracy country ingredients', 'conspiracy country pharma',\n",
       "       'conspiracy country side-effect', 'conspiracy ineffective',\n",
       "       'conspiracy ineffective ingredients',\n",
       "       'conspiracy ineffective side-effect', 'conspiracy ingredients',\n",
       "       'conspiracy ingredients mandatory',\n",
       "       'conspiracy ingredients pharma',\n",
       "       'conspiracy ingredients religious',\n",
       "       'conspiracy ingredients side-effect', 'conspiracy mandatory',\n",
       "       'conspiracy mandatory political',\n",
       "       'conspiracy mandatory side-effect', 'conspiracy pharma',\n",
       "       'conspiracy pharma ingredients', 'conspiracy pharma political',\n",
       "       'conspiracy pharma rushed', 'conspiracy pharma unnecessary',\n",
       "       'conspiracy political', 'conspiracy political ingredients',\n",
       "       'conspiracy political pharma', 'conspiracy religious',\n",
       "       'conspiracy rushed', 'conspiracy rushed side-effect',\n",
       "       'conspiracy side-effect', 'conspiracy side-effect ingredients',\n",
       "       'conspiracy side-effect rushed', 'conspiracy unnecessary',\n",
       "       'conspiracy unnecessary ingredients', 'country',\n",
       "       'country conspiracy', 'country ineffective', 'country ingredients',\n",
       "       'country mandatory', 'country pharma', 'country political',\n",
       "       'country political pharma', 'country rushed',\n",
       "       'country side-effect', 'country side-effect ineffective',\n",
       "       'country side-effect religious', 'country unnecessary',\n",
       "       'ineffective', 'ineffective conspiracy', 'ineffective country',\n",
       "       'ineffective country side-effect', 'ineffective ingredients',\n",
       "       'ineffective mandatory', 'ineffective mandatory side-effect',\n",
       "       'ineffective mandatory unnecessary', 'ineffective pharma',\n",
       "       'ineffective pharma unnecessary', 'ineffective political',\n",
       "       'ineffective rushed', 'ineffective rushed country',\n",
       "       'ineffective rushed pharma', 'ineffective rushed political',\n",
       "       'ineffective rushed side-effect', 'ineffective rushed unnecessary',\n",
       "       'ineffective side-effect', 'ineffective side-effect conspiracy',\n",
       "       'ineffective side-effect pharma', 'ineffective side-effect rushed',\n",
       "       'ineffective side-effect unnecessary', 'ineffective unnecessary',\n",
       "       'ineffective unnecessary ingredients',\n",
       "       'ineffective unnecessary mandatory',\n",
       "       'ineffective unnecessary pharma', 'ineffective unnecessary rushed',\n",
       "       'ingredients', 'ingredients conspiracy',\n",
       "       'ingredients conspiracy pharma', 'ingredients conspiracy rushed',\n",
       "       'ingredients conspiracy side-effect', 'ingredients ineffective',\n",
       "       'ingredients ineffective rushed', 'ingredients mandatory',\n",
       "       'ingredients pharma', 'ingredients pharma political',\n",
       "       'ingredients pharma side-effect', 'ingredients political',\n",
       "       'ingredients religious', 'ingredients rushed',\n",
       "       'ingredients side-effect', 'ingredients side-effect conspiracy',\n",
       "       'ingredients side-effect mandatory',\n",
       "       'ingredients side-effect pharma', 'ingredients unnecessary',\n",
       "       'mandatory', 'mandatory conspiracy',\n",
       "       'mandatory conspiracy ingredients', 'mandatory conspiracy pharma',\n",
       "       'mandatory country', 'mandatory country political',\n",
       "       'mandatory ineffective', 'mandatory ineffective side-effect',\n",
       "       'mandatory ingredients', 'mandatory ingredients side-effect',\n",
       "       'mandatory pharma', 'mandatory pharma conspiracy',\n",
       "       'mandatory pharma ingredients', 'mandatory political',\n",
       "       'mandatory political conspiracy', 'mandatory political religious',\n",
       "       'mandatory political rushed', 'mandatory religious',\n",
       "       'mandatory rushed', 'mandatory rushed pharma',\n",
       "       'mandatory rushed side-effect', 'mandatory rushed unnecessary',\n",
       "       'mandatory side-effect', 'mandatory side-effect conspiracy',\n",
       "       'mandatory side-effect rushed', 'mandatory unnecessary', 'none',\n",
       "       'pharma', 'pharma conspiracy', 'pharma conspiracy ingredients',\n",
       "       'pharma conspiracy rushed', 'pharma conspiracy side-effect',\n",
       "       'pharma country', 'pharma ineffective',\n",
       "       'pharma ineffective conspiracy', 'pharma ineffective ingredients',\n",
       "       'pharma ingredients', 'pharma mandatory',\n",
       "       'pharma mandatory political', 'pharma mandatory rushed',\n",
       "       'pharma mandatory unnecessary', 'pharma political',\n",
       "       'pharma political side-effect', 'pharma political unnecessary',\n",
       "       'pharma rushed', 'pharma rushed ineffective',\n",
       "       'pharma rushed political', 'pharma rushed side-effect',\n",
       "       'pharma side-effect', 'pharma side-effect political',\n",
       "       'pharma side-effect rushed', 'pharma side-effect unnecessary',\n",
       "       'pharma unnecessary', 'pharma unnecessary conspiracy',\n",
       "       'pharma unnecessary mandatory', 'pharma unnecessary political',\n",
       "       'political', 'political conspiracy',\n",
       "       'political conspiracy mandatory',\n",
       "       'political conspiracy side-effect', 'political country',\n",
       "       'political country mandatory', 'political ineffective',\n",
       "       'political ingredients', 'political mandatory', 'political pharma',\n",
       "       'political pharma rushed', 'political religious conspiracy',\n",
       "       'political religious mandatory', 'political rushed',\n",
       "       'political rushed ingredients', 'political rushed mandatory',\n",
       "       'political rushed pharma', 'political side-effect',\n",
       "       'political unnecessary', 'political unnecessary mandatory',\n",
       "       'religious', 'religious ingredients', 'religious pharma',\n",
       "       'religious side-effect', 'religious unnecessary', 'rushed',\n",
       "       'rushed conspiracy', 'rushed conspiracy political',\n",
       "       'rushed conspiracy side-effect', 'rushed country',\n",
       "       'rushed country ineffective', 'rushed country political',\n",
       "       'rushed country side-effect', 'rushed ineffective',\n",
       "       'rushed ineffective political', 'rushed ineffective side-effect',\n",
       "       'rushed ingredients', 'rushed ingredients conspiracy',\n",
       "       'rushed ingredients mandatory', 'rushed ingredients pharma',\n",
       "       'rushed mandatory', 'rushed mandatory pharma',\n",
       "       'rushed mandatory political', 'rushed mandatory side-effect',\n",
       "       'rushed pharma', 'rushed pharma ineffective', 'rushed political',\n",
       "       'rushed political ineffective', 'rushed political pharma',\n",
       "       'rushed religious', 'rushed rushed', 'rushed side-effect',\n",
       "       'rushed side-effect conspiracy', 'rushed side-effect ingredients',\n",
       "       'rushed side-effect mandatory', 'rushed side-effect pharma',\n",
       "       'rushed side-effect political', 'rushed side-effect unnecessary',\n",
       "       'rushed unnecessary', 'rushed unnecessary mandatory',\n",
       "       'rushed unnecessary pharma', 'rushed unnecessary side-effect',\n",
       "       'side-effect', 'side-effect conspiracy',\n",
       "       'side-effect conspiracy ingredients',\n",
       "       'side-effect conspiracy pharma', 'side-effect conspiracy rushed',\n",
       "       'side-effect country', 'side-effect ineffective',\n",
       "       'side-effect ineffective mandatory',\n",
       "       'side-effect ineffective political',\n",
       "       'side-effect ineffective rushed',\n",
       "       'side-effect ineffective unnecessary', 'side-effect ingredients',\n",
       "       'side-effect ingredients conspiracy',\n",
       "       'side-effect ingredients ineffective',\n",
       "       'side-effect ingredients mandatory',\n",
       "       'side-effect ingredients religious',\n",
       "       'side-effect ingredients unnecessary', 'side-effect mandatory',\n",
       "       'side-effect mandatory ineffective',\n",
       "       'side-effect mandatory ingredients',\n",
       "       'side-effect mandatory pharma', 'side-effect mandatory political',\n",
       "       'side-effect mandatory rushed', 'side-effect pharma',\n",
       "       'side-effect pharma conspiracy', 'side-effect pharma ingredients',\n",
       "       'side-effect pharma mandatory', 'side-effect pharma political',\n",
       "       'side-effect pharma rushed', 'side-effect pharma unnecessary',\n",
       "       'side-effect political', 'side-effect political conspiracy',\n",
       "       'side-effect political pharma', 'side-effect political rushed',\n",
       "       'side-effect religious mandatory', 'side-effect rushed',\n",
       "       'side-effect rushed country', 'side-effect rushed ineffective',\n",
       "       'side-effect rushed ingredients', 'side-effect rushed mandatory',\n",
       "       'side-effect rushed pharma', 'side-effect rushed unnecessary',\n",
       "       'side-effect unnecessary', 'side-effect unnecessary ineffective',\n",
       "       'side-effect unnecessary ingredients',\n",
       "       'side-effect unnecessary mandatory',\n",
       "       'side-effect unnecessary rushed', 'unnecessary',\n",
       "       'unnecessary conspiracy', 'unnecessary conspiracy ingredients',\n",
       "       'unnecessary conspiracy mandatory',\n",
       "       'unnecessary conspiracy pharma',\n",
       "       'unnecessary conspiracy side-effect', 'unnecessary country',\n",
       "       'unnecessary ineffective', 'unnecessary ineffective rushed',\n",
       "       'unnecessary ineffective side-effect', 'unnecessary ingredients',\n",
       "       'unnecessary ingredients side-effect', 'unnecessary mandatory',\n",
       "       'unnecessary mandatory ineffective',\n",
       "       'unnecessary mandatory ingredients',\n",
       "       'unnecessary mandatory rushed', 'unnecessary pharma',\n",
       "       'unnecessary pharma ineffective', 'unnecessary pharma political',\n",
       "       'unnecessary pharma rushed', 'unnecessary political',\n",
       "       'unnecessary political side-effect', 'unnecessary religious',\n",
       "       'unnecessary rushed', 'unnecessary rushed mandatory',\n",
       "       'unnecessary rushed pharma', 'unnecessary rushed political',\n",
       "       'unnecessary rushed side-effect', 'unnecessary side-effect',\n",
       "       'unnecessary side-effect conspiracy',\n",
       "       'unnecessary side-effect ingredients',\n",
       "       'unnecessary side-effect rushed'], dtype=object)"
      ]
     },
     "execution_count": 13,
     "metadata": {},
     "output_type": "execute_result"
    }
   ],
   "source": [
    "unique_entries = dataset['labels'].sort_values().unique()\n",
    "unique_entries"
   ]
  },
  {
   "cell_type": "code",
   "execution_count": null,
   "id": "b8d14a09",
   "metadata": {},
   "outputs": [],
   "source": []
  }
 ],
 "metadata": {
  "kernelspec": {
   "display_name": "Python 3 (ipykernel)",
   "language": "python",
   "name": "python3"
  },
  "language_info": {
   "codemirror_mode": {
    "name": "ipython",
    "version": 3
   },
   "file_extension": ".py",
   "mimetype": "text/x-python",
   "name": "python",
   "nbconvert_exporter": "python",
   "pygments_lexer": "ipython3",
   "version": "3.10.9"
  }
 },
 "nbformat": 4,
 "nbformat_minor": 5
}
