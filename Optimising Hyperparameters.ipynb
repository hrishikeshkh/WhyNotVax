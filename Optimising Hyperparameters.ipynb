{
 "cells": [
  {
   "cell_type": "markdown",
   "metadata": {},
   "source": [
    "# Hyperparameter Optimization"
   ]
  },
  {
   "cell_type": "markdown",
   "metadata": {},
   "source": [
    "The goal of this notebook is to find the best hyperparameters for the model. We will use the following hyperparameters:\n",
    "1. Number of layers\n",
    "2. Number of neurons per layer\n",
    "3. Activation function\n",
    "4. Optimizer\n",
    "5. Learning rate\n",
    "6. Batch size\n",
    "7. Number of epochs\n",
    "8. Train test split\n",
    "9. Data Parity Ratio\n",
    "\n",
    "An NN will be constructed on the above properties. We will then use 2 properties for evaluating the cost - \n",
    "1. Accuracy\n",
    "2. Cross Validation Score\n",
    "\n",
    "The first ensures that the model works, the second ensures that the model is not overfitting.\n",
    "The cost can be simply modeled as\n",
    "\n",
    "$$ Cost = \\frac{acc}{1 + cv} $$\n",
    "\n",
    "Assuming an increase in cross validation is more detrimental than an increase in accuracy is beneficial."
   ]
  },
  {
   "cell_type": "markdown",
   "metadata": {},
   "source": [
    "## Training the model"
   ]
  },
  {
   "cell_type": "code",
   "execution_count": null,
   "metadata": {},
   "outputs": [],
   "source": [
    "# Model\n",
    "\n",
    "# IMPORTANT: You can also use a python file to write this and import i\n",
    "def train_model(hyperparameters, data):\n",
    "    # Create the NN\n",
    "\n",
    "    # Create the data\n",
    "\n",
    "    # Train the NN\n",
    "\n",
    "    # Evaluate accuracy\n",
    "    acc = 0.5\n",
    "\n",
    "    # Evaluate cross validation score\n",
    "    cv_score = 0.5\n",
    "\n",
    "    return acc, cv_score"
   ]
  },
  {
   "cell_type": "markdown",
   "metadata": {},
   "source": [
    "## Evaluating cost"
   ]
  },
  {
   "cell_type": "code",
   "execution_count": null,
   "metadata": {},
   "outputs": [],
   "source": [
    "# Cost function\n",
    "data = None # Load the data here\n",
    "\n",
    "def cost_function(hyperparams):\n",
    "    # Assuming data is constant for this exercise and loaded in the global namespace\n",
    "    acc, cv = train_model(hyperparams, data)\n",
    "    return acc / (1 + cv)"
   ]
  },
  {
   "cell_type": "markdown",
   "metadata": {},
   "source": [
    "## Descending Gradient"
   ]
  },
  {
   "cell_type": "code",
   "execution_count": null,
   "metadata": {},
   "outputs": [],
   "source": [
    "# Gradient descent\n",
    "\n",
    "# Import the function\n",
    "\n",
    "# Pass the cost function to the optimiser\n",
    "\n",
    "# Print the best hyperparameters"
   ]
  },
  {
   "cell_type": "markdown",
   "metadata": {},
   "source": [
    "## Statistics"
   ]
  },
  {
   "cell_type": "markdown",
   "metadata": {},
   "source": [
    "Ciao"
   ]
  }
 ],
 "metadata": {
  "kernelspec": {
   "display_name": "Python 3",
   "language": "python",
   "name": "python3"
  },
  "language_info": {
   "name": "python",
   "version": "3.9.6"
  },
  "orig_nbformat": 4
 },
 "nbformat": 4,
 "nbformat_minor": 2
}
