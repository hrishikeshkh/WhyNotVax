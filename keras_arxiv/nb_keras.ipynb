{
  "cells": [
    {
      "cell_type": "markdown",
      "metadata": {
        "id": "ewckJJzUcyxq"
      },
      "source": [
        "# Large-scale multi-label text classification\n",
        "\n",
        "**Author:** [Sayak Paul](https://twitter.com/RisingSayak), [Soumik Rakshit](https://github.com/soumik12345)<br>\n",
        "**Date created:** 2020/09/25<br>\n",
        "**Last modified:** 2020/12/23<br>\n",
        "**Description:** Implementing a large-scale multi-label text classification model."
      ]
    },
    {
      "cell_type": "markdown",
      "metadata": {
        "id": "C-xF_tH9cyxu"
      },
      "source": [
        "## Introduction\n",
        "\n",
        "In this example, we will build a multi-label text classifier to predict the subject areas\n",
        "of arXiv papers from their abstract bodies. This type of classifier can be useful for\n",
        "conference submission portals like [OpenReview](https://openreview.net/). Given a paper\n",
        "abstract, the portal could provide suggestions for which areas the paper would\n",
        "best belong to.\n",
        "\n",
        "The dataset was collected using the\n",
        "[`arXiv` Python library](https://github.com/lukasschwab/arxiv.py)\n",
        "that provides a wrapper around the\n",
        "[original arXiv API](http://arxiv.org/help/api/index).\n",
        "To learn more about the data collection process, please refer to\n",
        "[this notebook](https://github.com/soumik12345/multi-label-text-classification/blob/master/arxiv_scrape.ipynb).\n",
        "Additionally, you can also find the dataset on\n",
        "[Kaggle](https://www.kaggle.com/spsayakpaul/arxiv-paper-abstracts)."
      ]
    },
    {
      "cell_type": "markdown",
      "metadata": {
        "id": "9L2239NPcyxv"
      },
      "source": [
        "## Imports"
      ]
    },
    {
      "cell_type": "code",
      "execution_count": 6,
      "metadata": {
        "id": "xqHh0YpAcyxv"
      },
      "outputs": [],
      "source": [
        "from tensorflow.keras import layers\n",
        "from tensorflow import keras\n",
        "import tensorflow as tf\n",
        "\n",
        "from sklearn.model_selection import train_test_split\n",
        "from ast import literal_eval\n",
        "\n",
        "import matplotlib.pyplot as plt\n",
        "import pandas as pd\n",
        "import numpy as np"
      ]
    },
    {
      "cell_type": "markdown",
      "metadata": {
        "id": "tyHDM25Gcyxx"
      },
      "source": [
        "## Perform exploratory data analysis\n",
        "\n",
        "In this section, we first load the dataset into a `pandas` dataframe and then perform\n",
        "some basic exploratory data analysis (EDA)."
      ]
    },
    {
      "cell_type": "code",
      "execution_count": 7,
      "metadata": {
        "colab": {
          "base_uri": "https://localhost:8080/",
          "height": 204
        },
        "id": "MLp_v7H7cyxx",
        "outputId": "e1830b24-2c8a-42c7-8203-fc01cdb0764b"
      },
      "outputs": [
        {
          "data": {
            "text/html": [
              "<div>\n",
              "<style scoped>\n",
              "    .dataframe tbody tr th:only-of-type {\n",
              "        vertical-align: middle;\n",
              "    }\n",
              "\n",
              "    .dataframe tbody tr th {\n",
              "        vertical-align: top;\n",
              "    }\n",
              "\n",
              "    .dataframe thead th {\n",
              "        text-align: right;\n",
              "    }\n",
              "</style>\n",
              "<table border=\"1\" class=\"dataframe\">\n",
              "  <thead>\n",
              "    <tr style=\"text-align: right;\">\n",
              "      <th></th>\n",
              "      <th>ID</th>\n",
              "      <th>tweet</th>\n",
              "      <th>labels</th>\n",
              "    </tr>\n",
              "  </thead>\n",
              "  <tbody>\n",
              "    <tr>\n",
              "      <th>0</th>\n",
              "      <td>1296010336907038720t</td>\n",
              "      <td>AstraZeneca is made with the kidney cells of ...</td>\n",
              "      <td>ingredients</td>\n",
              "    </tr>\n",
              "    <tr>\n",
              "      <th>1</th>\n",
              "      <td>1336808189677940736t</td>\n",
              "      <td>It begins Please find safe alternatives to thi...</td>\n",
              "      <td>side-effect</td>\n",
              "    </tr>\n",
              "    <tr>\n",
              "      <th>2</th>\n",
              "      <td>1329488407307956231t</td>\n",
              "      <td>Well I mean congratulations Covid19 for being...</td>\n",
              "      <td>side-effect</td>\n",
              "    </tr>\n",
              "    <tr>\n",
              "      <th>3</th>\n",
              "      <td>1364194604459900934t</td>\n",
              "      <td>for those of us that do not wish a vaccine so...</td>\n",
              "      <td>mandatory</td>\n",
              "    </tr>\n",
              "    <tr>\n",
              "      <th>4</th>\n",
              "      <td>1375938799247765515t</td>\n",
              "      <td>She has been trying to speak out writing lette...</td>\n",
              "      <td>side-effect rushed</td>\n",
              "    </tr>\n",
              "  </tbody>\n",
              "</table>\n",
              "</div>"
            ],
            "text/plain": [
              "                     ID                                              tweet  \\\n",
              "0  1296010336907038720t   AstraZeneca is made with the kidney cells of ...   \n",
              "1  1336808189677940736t  It begins Please find safe alternatives to thi...   \n",
              "2  1329488407307956231t   Well I mean congratulations Covid19 for being...   \n",
              "3  1364194604459900934t   for those of us that do not wish a vaccine so...   \n",
              "4  1375938799247765515t  She has been trying to speak out writing lette...   \n",
              "\n",
              "               labels  \n",
              "0         ingredients  \n",
              "1         side-effect  \n",
              "2         side-effect  \n",
              "3           mandatory  \n",
              "4  side-effect rushed  "
            ]
          },
          "execution_count": 7,
          "metadata": {},
          "output_type": "execute_result"
        }
      ],
      "source": [
        "arxiv_data = pd.read_csv(\n",
        "    \"/Users/kesh/Documents/GitHub/WhyNotVax/data/train_val_cleaned.csv\"\n",
        ")\n",
        "arxiv_data.head()"
      ]
    },
    {
      "cell_type": "markdown",
      "metadata": {
        "id": "VQFqRxTAcyxy"
      },
      "source": [
        "Our text features are present in the `tweet` column and their corresponding labels\n",
        "are in `labels`. As you can notice, there are multiple categories associated with a\n",
        "particular entry."
      ]
    },
    {
      "cell_type": "code",
      "execution_count": 8,
      "metadata": {
        "colab": {
          "base_uri": "https://localhost:8080/"
        },
        "id": "4eP3iCRBcyxy",
        "outputId": "55fe7956-4390-4ccf-95c4-ec7250be5cfe"
      },
      "outputs": [
        {
          "name": "stdout",
          "output_type": "stream",
          "text": [
            "There are 9921 rows in the dataset.\n"
          ]
        }
      ],
      "source": [
        "print(f\"There are {len(arxiv_data)} rows in the dataset.\")"
      ]
    },
    {
      "cell_type": "markdown",
      "metadata": {
        "id": "JMRMRazPcyxy"
      },
      "source": [
        "Real-world data is noisy. One of the most commonly observed source of noise is data\n",
        "duplication. Here we notice that our initial dataset has got about 13k duplicate entries."
      ]
    },
    {
      "cell_type": "code",
      "execution_count": 9,
      "metadata": {
        "colab": {
          "base_uri": "https://localhost:8080/"
        },
        "id": "IkTd8wDHcyxz",
        "outputId": "bc0f5886-de0b-42eb-9172-2f7fe50b1ca1"
      },
      "outputs": [
        {
          "name": "stdout",
          "output_type": "stream",
          "text": [
            "There are 0 duplicate ID.\n"
          ]
        }
      ],
      "source": [
        "total_duplicate_ID = sum(arxiv_data[\"ID\"].duplicated())\n",
        "print(f\"There are {total_duplicate_ID} duplicate ID.\")"
      ]
    },
    {
      "cell_type": "markdown",
      "metadata": {
        "id": "PeBN0P2lcyxz"
      },
      "source": [
        "Before proceeding further, we drop these entries."
      ]
    },
    {
      "cell_type": "code",
      "execution_count": 10,
      "metadata": {
        "colab": {
          "base_uri": "https://localhost:8080/"
        },
        "id": "reYQzB7tcyxz",
        "outputId": "7f76394b-6406-4f26-c674-8cc2bafb7425"
      },
      "outputs": [
        {
          "name": "stdout",
          "output_type": "stream",
          "text": [
            "There are 9921 rows in the deduplicated dataset.\n",
            "131\n",
            "288\n"
          ]
        }
      ],
      "source": [
        "arxiv_data = arxiv_data[~arxiv_data[\"ID\"].duplicated()]\n",
        "print(f\"There are {len(arxiv_data)} rows in the deduplicated dataset.\")\n",
        "\n",
        "# There are some labels with occurrence as low as 1.\n",
        "print(sum(arxiv_data[\"labels\"].value_counts() == 1))\n",
        "\n",
        "# How many unique labels?\n",
        "print(arxiv_data[\"labels\"].nunique())"
      ]
    },
    {
      "cell_type": "markdown",
      "metadata": {
        "id": "0V8Ea2Jncyxz"
      },
      "source": [
        "As observed above, out of 3,157 unique combinations of `labels`, 2,321 entries have the\n",
        "lowest occurrence. To prepare our train, validation, and test sets with\n",
        "[stratification](https://en.wikipedia.org/wiki/Stratified_sampling), we need to drop\n",
        "these labels."
      ]
    },
    {
      "cell_type": "code",
      "execution_count": 11,
      "metadata": {
        "colab": {
          "base_uri": "https://localhost:8080/"
        },
        "id": "yz-7Z7aBcyx0",
        "outputId": "c06fb879-9f1b-485f-8d63-ba625f392cda"
      },
      "outputs": [
        {
          "data": {
            "text/plain": [
              "(9790, 3)"
            ]
          },
          "execution_count": 11,
          "metadata": {},
          "output_type": "execute_result"
        }
      ],
      "source": [
        "# Filtering the rare labels.\n",
        "arxiv_data_filtered = arxiv_data.groupby(\"labels\").filter(lambda x: len(x) > 1)\n",
        "arxiv_data_filtered.shape"
      ]
    },
    {
      "cell_type": "markdown",
      "metadata": {
        "id": "XTxaUmCZcyx0"
      },
      "source": [
        "## Convert the string labels to lists of strings\n",
        "\n",
        "The initial labels are represented as raw strings. Here we make them `List[str]` for a\n",
        "more compact representation."
      ]
    },
    {
      "cell_type": "code",
      "execution_count": 12,
      "metadata": {
        "colab": {
          "base_uri": "https://localhost:8080/"
        },
        "id": "c74GaeMicyx0",
        "outputId": "1dc9e21f-fd23-4264-fd87-234357a06542"
      },
      "outputs": [
        {
          "data": {
            "text/plain": [
              "array([list(['ingredients']), list(['side-effect']),\n",
              "       list(['side-effect']), list(['mandatory']),\n",
              "       list(['side-effect', 'rushed'])], dtype=object)"
            ]
          },
          "execution_count": 12,
          "metadata": {},
          "output_type": "execute_result"
        }
      ],
      "source": [
        "arxiv_data_filtered[\"labels\"] = arxiv_data_filtered[\"labels\"].apply(\n",
        "    lambda x: x.split(\" \")\n",
        ")\n",
        "arxiv_data_filtered[\"labels\"].values[:5]"
      ]
    },
    {
      "cell_type": "markdown",
      "metadata": {
        "id": "s-mmIeTncyx0"
      },
      "source": [
        "## Use stratified splits because of class imbalance\n",
        "\n",
        "The dataset has a\n",
        "[class imbalance problem](https://developers.google.com/machine-learning/glossary/#class-imbalanced-dataset).\n",
        "So, to have a fair evaluation result, we need to ensure the datasets are sampled with\n",
        "stratification. To know more about different strategies to deal with the class imbalance\n",
        "problem, you can follow\n",
        "[this tutorial](https://www.tensorflow.org/tutorials/structured_data/imbalanced_data).\n",
        "For an end-to-end demonstration of classification with imbablanced data, refer to\n",
        "[Imbalanced classification: credit card fraud detection](https://keras.io/examples/structured_data/imbalanced_classification/)."
      ]
    },
    {
      "cell_type": "code",
      "execution_count": 13,
      "metadata": {
        "colab": {
          "base_uri": "https://localhost:8080/"
        },
        "id": "0O5GARpBcyx1",
        "outputId": "735f4942-9504-4a23-fc10-166ef86c4310"
      },
      "outputs": [
        {
          "name": "stdout",
          "output_type": "stream",
          "text": [
            "Number of rows in training set: 8811\n",
            "Number of rows in validation set: 490\n",
            "Number of rows in test set: 489\n"
          ]
        }
      ],
      "source": [
        "test_split = 0.1\n",
        "\n",
        "# Initial train and test split.\n",
        "train_df, test_df = train_test_split(\n",
        "    arxiv_data_filtered,\n",
        "    test_size=test_split,\n",
        "    stratify=arxiv_data_filtered[\"labels\"].values,\n",
        ")\n",
        "\n",
        "# Splitting the test set further into validation\n",
        "# and new test sets.\n",
        "val_df = test_df.sample(frac=0.5)\n",
        "test_df.drop(val_df.index, inplace=True)\n",
        "\n",
        "print(f\"Number of rows in training set: {len(train_df)}\")\n",
        "print(f\"Number of rows in validation set: {len(val_df)}\")\n",
        "print(f\"Number of rows in test set: {len(test_df)}\")"
      ]
    },
    {
      "cell_type": "markdown",
      "metadata": {
        "id": "CCRXqkaucyx1"
      },
      "source": [
        "## Multi-label binarization\n",
        "\n",
        "Now we preprocess our labels using the\n",
        "[`StringLookup`](https://keras.io/api/layers/preprocessing_layers/categorical/string_lookup)\n",
        "layer."
      ]
    },
    {
      "cell_type": "code",
      "execution_count": 14,
      "metadata": {
        "colab": {
          "base_uri": "https://localhost:8080/"
        },
        "id": "ojUKw1JHcyx1",
        "outputId": "635bd709-9a58-45bd-d08e-a740635a39a0"
      },
      "outputs": [
        {
          "name": "stdout",
          "output_type": "stream",
          "text": [
            "Vocabulary:\n",
            "\n",
            "['[UNK]', 'side-effect', 'ineffective', 'rushed', 'pharma', 'mandatory', 'unnecessary', 'none', 'political', 'conspiracy', 'ingredients', 'country', 'religious']\n"
          ]
        }
      ],
      "source": [
        "labels = tf.ragged.constant(train_df[\"labels\"].values)\n",
        "lookup = tf.keras.layers.StringLookup(output_mode=\"multi_hot\")\n",
        "lookup.adapt(labels)\n",
        "vocab = lookup.get_vocabulary()\n",
        "\n",
        "\n",
        "def invert_multi_hot(encoded_labels):\n",
        "    \"\"\"Reverse a single multi-hot encoded label to a tuple of vocab labels.\"\"\"\n",
        "    hot_indices = np.argwhere(encoded_labels == 1.0)[..., 0]\n",
        "    return np.take(vocab, hot_indices)\n",
        "\n",
        "\n",
        "print(\"Vocabulary:\\n\")\n",
        "print(vocab)\n"
      ]
    },
    {
      "cell_type": "markdown",
      "metadata": {
        "id": "hT8wF4Wycyx1"
      },
      "source": [
        "Here we are separating the individual unique classes available from the label\n",
        "pool and then using this information to represent a given label set with 0's and 1's.\n",
        "Below is an example."
      ]
    },
    {
      "cell_type": "code",
      "execution_count": 15,
      "metadata": {
        "colab": {
          "base_uri": "https://localhost:8080/"
        },
        "id": "cGS4yMYicyx2",
        "outputId": "15ce0d84-1d8b-4ca8-8c12-c7d254903495"
      },
      "outputs": [
        {
          "name": "stdout",
          "output_type": "stream",
          "text": [
            "Original label: ['rushed']\n",
            "Label-binarized representation: [[0. 0. 0. 1. 0. 0. 0. 0. 0. 0. 0. 0. 0.]]\n"
          ]
        }
      ],
      "source": [
        "sample_label = train_df[\"labels\"].iloc[0]\n",
        "print(f\"Original label: {sample_label}\")\n",
        "\n",
        "label_binarized = lookup([sample_label])\n",
        "print(f\"Label-binarized representation: {label_binarized}\")"
      ]
    },
    {
      "cell_type": "markdown",
      "metadata": {
        "id": "vvEAJOCNcyx2"
      },
      "source": [
        "## Data preprocessing and `tf.data.Dataset` objects\n",
        "\n",
        "We first get percentile estimates of the sequence lengths. The purpose will be clear in a\n",
        "moment."
      ]
    },
    {
      "cell_type": "code",
      "execution_count": 16,
      "metadata": {
        "colab": {
          "base_uri": "https://localhost:8080/"
        },
        "id": "6Ew-NjBscyx2",
        "outputId": "81f1b63e-3faa-40d0-f077-0ed1a6ad41f8"
      },
      "outputs": [
        {
          "data": {
            "text/plain": [
              "count    8811.000000\n",
              "mean       34.740779\n",
              "std        12.460188\n",
              "min         3.000000\n",
              "25%        24.000000\n",
              "50%        36.000000\n",
              "75%        45.000000\n",
              "max        87.000000\n",
              "Name: tweet, dtype: float64"
            ]
          },
          "execution_count": 16,
          "metadata": {},
          "output_type": "execute_result"
        }
      ],
      "source": [
        "train_df[\"tweet\"].apply(lambda x: len(x.split(\" \"))).describe()"
      ]
    },
    {
      "cell_type": "markdown",
      "metadata": {
        "id": "SAN5uBdIcyx2"
      },
      "source": [
        "Notice that 50% of the abstracts have a length of 154 (you may get a different number\n",
        "based on the split). So, any number close to that value is a good enough approximate for the\n",
        "maximum sequence length.\n",
        "\n",
        "Now, we implement utilities to prepare our datasets."
      ]
    },
    {
      "cell_type": "code",
      "execution_count": 17,
      "metadata": {
        "id": "dLKZ2LQ_cyx2"
      },
      "outputs": [],
      "source": [
        "max_seqlen = 36\n",
        "batch_size = 128\n",
        "padding_token = \"<pad>\"\n",
        "auto = tf.data.AUTOTUNE\n",
        "\n",
        "\n",
        "def make_dataset(dataframe, is_train=True):\n",
        "    labels = tf.ragged.constant(dataframe[\"labels\"].values)\n",
        "    label_binarized = lookup(labels).numpy()\n",
        "    dataset = tf.data.Dataset.from_tensor_slices(\n",
        "        (dataframe[\"tweet\"].values, label_binarized)\n",
        "    )\n",
        "    dataset = dataset.shuffle(batch_size * 10) if is_train else dataset\n",
        "    return dataset.batch(batch_size)\n"
      ]
    },
    {
      "cell_type": "markdown",
      "metadata": {
        "id": "TP6_k71Pcyx3"
      },
      "source": [
        "Now we can prepare the `tf.data.Dataset` objects."
      ]
    },
    {
      "cell_type": "code",
      "execution_count": 18,
      "metadata": {
        "id": "7F-6fz0-cyx3"
      },
      "outputs": [],
      "source": [
        "train_dataset = make_dataset(train_df, is_train=True)\n",
        "validation_dataset = make_dataset(val_df, is_train=False)\n",
        "test_dataset = make_dataset(test_df, is_train=False)"
      ]
    },
    {
      "cell_type": "markdown",
      "metadata": {
        "id": "6e5dJ9HIcyx3"
      },
      "source": [
        "## Dataset preview"
      ]
    },
    {
      "cell_type": "code",
      "execution_count": 19,
      "metadata": {
        "colab": {
          "base_uri": "https://localhost:8080/"
        },
        "id": "mEjWGZ2Wcyx3",
        "outputId": "78644c72-6116-4461-f777-2fb51939d686"
      },
      "outputs": [
        {
          "name": "stdout",
          "output_type": "stream",
          "text": [
            "Abstract: b'  Double jab effectiveness is supposed to be very good comparative with Pfizer More real field data will tell us the truth Another variable we are missing is which jab was administered to the double vaxxed who die but they probably wont publish that'\n",
            "Label(s): ['side-effect' 'rushed']\n",
            " \n",
            "Abstract: b'Knowing they put RNA in the corona vaccine Are you going to take the vaccine'\n",
            "Label(s): ['ingredients']\n",
            " \n",
            "Abstract: b'   You mean the study Oxford was involved in and which they themselves said showed that their vaccine provided minimal protection against the South Africa variant '\n",
            "Label(s): ['ineffective']\n",
            " \n",
            "Abstract: b' This is scaring the hell right out of me I already knew not to trust Gates and Ive been looking to see what vaccine places dont have his name in it Even the one potus mentioned  pfizer does'\n",
            "Label(s): ['political']\n",
            " \n",
            "Abstract: b'   All Im saying is it is a deadend and continues to be proven as such Maybe after mandatory moderna vaccinations and countless side effects we will finally learn  Dead giveaway when you cant sue them for damages due to their lame vaccines'\n",
            "Label(s): ['side-effect' 'pharma']\n",
            " \n"
          ]
        }
      ],
      "source": [
        "text_batch, label_batch = next(iter(train_dataset))\n",
        "\n",
        "for i, text in enumerate(text_batch[:5]):\n",
        "    label = label_batch[i].numpy()[None, ...]\n",
        "    print(f\"Abstract: {text}\")\n",
        "    print(f\"Label(s): {invert_multi_hot(label[0])}\")\n",
        "    print(\" \")"
      ]
    },
    {
      "cell_type": "markdown",
      "metadata": {
        "id": "iELzl88ycyx3"
      },
      "source": [
        "## Vectorization\n",
        "\n",
        "Before we feed the data to our model, we need to vectorize it (represent it in a numerical form).\n",
        "For that purpose, we will use the\n",
        "[`TextVectorization` layer](https://keras.io/api/layers/preprocessing_layers/text/text_vectorization).\n",
        "It can operate as a part of your main model so that the model is excluded from the core\n",
        "preprocessing logic. This greatly reduces the chances of training / serving skew during inference.\n",
        "\n",
        "We first calculate the number of unique words present in the abstracts."
      ]
    },
    {
      "cell_type": "code",
      "execution_count": 20,
      "metadata": {
        "colab": {
          "base_uri": "https://localhost:8080/"
        },
        "id": "qEe6vQcscyx3",
        "outputId": "134a0251-04ca-49c2-ebfb-d17d8a9f26ce"
      },
      "outputs": [
        {
          "name": "stdout",
          "output_type": "stream",
          "text": [
            "16880\n"
          ]
        }
      ],
      "source": [
        "# Source: https://stackoverflow.com/a/18937309/7636462\n",
        "vocabulary = set()\n",
        "train_df[\"tweet\"].str.lower().str.split().apply(vocabulary.update)\n",
        "vocabulary_size = len(vocabulary)\n",
        "print(vocabulary_size)\n"
      ]
    },
    {
      "cell_type": "markdown",
      "metadata": {
        "id": "oKz88k0Hcyx4"
      },
      "source": [
        "We now create our vectorization layer and `map()` to the `tf.data.Dataset`s created\n",
        "earlier."
      ]
    },
    {
      "cell_type": "code",
      "execution_count": 21,
      "metadata": {
        "id": "NjU24kh-cyx4"
      },
      "outputs": [],
      "source": [
        "text_vectorizer = layers.TextVectorization(\n",
        "    max_tokens=vocabulary_size, ngrams=3, output_mode=\"tf_idf\"\n",
        ")\n",
        "\n",
        "# `TextVectorization` layer needs to be adapted as per the vocabulary from our\n",
        "# training set.\n",
        "with tf.device(\"/CPU:0\"):\n",
        "    text_vectorizer.adapt(train_dataset.map(lambda text, label: text))\n",
        "\n",
        "train_dataset = train_dataset.map(\n",
        "    lambda text, label: (text_vectorizer(text), label), num_parallel_calls=auto\n",
        ").prefetch(auto)\n",
        "validation_dataset = validation_dataset.map(\n",
        "    lambda text, label: (text_vectorizer(text), label), num_parallel_calls=auto\n",
        ").prefetch(auto)\n",
        "test_dataset = test_dataset.map(\n",
        "    lambda text, label: (text_vectorizer(text), label), num_parallel_calls=auto\n",
        ").prefetch(auto)\n"
      ]
    },
    {
      "cell_type": "markdown",
      "metadata": {
        "id": "23Q3eV8Qcyx4"
      },
      "source": [
        "A batch of raw text will first go through the `TextVectorization` layer and it will\n",
        "generate their integer representations. Internally, the `TextVectorization` layer will\n",
        "first create bi-grams out of the sequences and then represent them using\n",
        "[TF-IDF](https://wikipedia.org/wiki/Tf%E2%80%93idf). The output representations will then\n",
        "be passed to the shallow model responsible for text classification.\n",
        "\n",
        "To learn more about other possible configurations with `TextVectorizer`, please consult\n",
        "the\n",
        "[official documentation](https://keras.io/api/layers/preprocessing_layers/text/text_vectorization).\n",
        "\n",
        "**Note**: Setting the `max_tokens` argument to a pre-calculated vocabulary size is\n",
        "not a requirement."
      ]
    },
    {
      "cell_type": "markdown",
      "metadata": {
        "id": "SvNwCPRccyx5"
      },
      "source": [
        "## Create a text classification model\n",
        "\n",
        "We will keep our model simple -- it will be a small stack of fully-connected layers with\n",
        "ReLU as the non-linearity."
      ]
    },
    {
      "cell_type": "code",
      "execution_count": 22,
      "metadata": {
        "id": "zFdPna_-cyx5"
      },
      "outputs": [],
      "source": [
        "\n",
        "def make_model():\n",
        "    shallow_mlp_model = keras.Sequential(\n",
        "        [\n",
        "            layers.Dense(512, activation=\"relu\"),\n",
        "            layers.Dense(256, activation=\"relu\"),\n",
        "            layers.Dense(lookup.vocabulary_size(), activation=\"sigmoid\"),\n",
        "        ]  # More on why \"sigmoid\" has been used here in a moment.\n",
        "    )\n",
        "    return shallow_mlp_model\n"
      ]
    },
    {
      "cell_type": "markdown",
      "metadata": {
        "id": "kGvh8j-6cyx5"
      },
      "source": [
        "## Train the model\n",
        "\n",
        "We will train our model using the binary crossentropy loss. This is because the labels\n",
        "are not disjoint. For a given abstract, we may have multiple categories. So, we will\n",
        "divide the prediction task into a series of multiple binary classification problems. This\n",
        "is also why we kept the activation function of the classification layer in our model to\n",
        "sigmoid. Researchers have used other combinations of loss function and activation\n",
        "function as well. For example, in [Exploring the Limits of Weakly Supervised Pretraining](https://arxiv.org/abs/1805.00932),\n",
        "Mahajan et al. used the softmax activation function and cross-entropy loss to train\n",
        "their models.\n",
        "\n",
        "There are several options of metrics that can be used in multi-label classification.\n",
        "To keep this code example narrow we decided to use the\n",
        "[binary accuracy metric](https://keras.io/api/metrics/accuracy_metrics/#binaryaccuracy-class).\n",
        "To see the explanation why this metric is used we refer to this\n",
        "[pull-request](https://github.com/keras-team/keras-io/pull/1133#issuecomment-1322736860).\n",
        "There are also other suitable metrics for multi-label classification, like\n",
        "[F1 Score](https://www.tensorflow.org/addons/api_docs/python/tfa/metrics/F1Score) or\n",
        "[Hamming loss](https://www.tensorflow.org/addons/api_docs/python/tfa/metrics/HammingLoss)."
      ]
    },
    {
      "cell_type": "code",
      "execution_count": 23,
      "metadata": {
        "colab": {
          "base_uri": "https://localhost:8080/",
          "height": 1000
        },
        "id": "Unmak_F3cyx6",
        "outputId": "b8aa7d24-9375-4757-a7fd-23218ac0a838"
      },
      "outputs": [
        {
          "name": "stdout",
          "output_type": "stream",
          "text": [
            "Epoch 1/20\n",
            "69/69 [==============================] - 2s 22ms/step - loss: 0.2551 - binary_accuracy: 0.9201 - val_loss: 0.1966 - val_binary_accuracy: 0.9339\n",
            "Epoch 2/20\n",
            "69/69 [==============================] - 1s 21ms/step - loss: 0.0743 - binary_accuracy: 0.9751 - val_loss: 0.2116 - val_binary_accuracy: 0.9330\n",
            "Epoch 3/20\n",
            "69/69 [==============================] - 1s 20ms/step - loss: 0.0212 - binary_accuracy: 0.9955 - val_loss: 0.2781 - val_binary_accuracy: 0.9330\n",
            "Epoch 4/20\n",
            "69/69 [==============================] - 1s 20ms/step - loss: 0.0070 - binary_accuracy: 0.9992 - val_loss: 0.3143 - val_binary_accuracy: 0.9325\n",
            "Epoch 5/20\n",
            "69/69 [==============================] - 1s 21ms/step - loss: 0.0042 - binary_accuracy: 0.9996 - val_loss: 0.3326 - val_binary_accuracy: 0.9336\n",
            "Epoch 6/20\n",
            "69/69 [==============================] - 2s 23ms/step - loss: 0.0028 - binary_accuracy: 0.9997 - val_loss: 0.3637 - val_binary_accuracy: 0.9323\n",
            "Epoch 7/20\n",
            "69/69 [==============================] - 2s 22ms/step - loss: 0.0021 - binary_accuracy: 0.9997 - val_loss: 0.3706 - val_binary_accuracy: 0.9339\n",
            "Epoch 8/20\n",
            "69/69 [==============================] - 1s 20ms/step - loss: 0.0018 - binary_accuracy: 0.9997 - val_loss: 0.3960 - val_binary_accuracy: 0.9328\n",
            "Epoch 9/20\n",
            "69/69 [==============================] - 1s 20ms/step - loss: 0.0014 - binary_accuracy: 0.9998 - val_loss: 0.3931 - val_binary_accuracy: 0.9334\n",
            "Epoch 10/20\n",
            "69/69 [==============================] - 1s 20ms/step - loss: 0.0012 - binary_accuracy: 0.9998 - val_loss: 0.4161 - val_binary_accuracy: 0.9334\n",
            "Epoch 11/20\n",
            "69/69 [==============================] - 1s 20ms/step - loss: 9.0715e-04 - binary_accuracy: 0.9998 - val_loss: 0.4286 - val_binary_accuracy: 0.9349\n",
            "Epoch 12/20\n",
            "69/69 [==============================] - 1s 21ms/step - loss: 9.4063e-04 - binary_accuracy: 0.9998 - val_loss: 0.4359 - val_binary_accuracy: 0.9331\n",
            "Epoch 13/20\n",
            "69/69 [==============================] - 1s 20ms/step - loss: 7.3384e-04 - binary_accuracy: 0.9998 - val_loss: 0.4398 - val_binary_accuracy: 0.9333\n",
            "Epoch 14/20\n",
            "69/69 [==============================] - 1s 21ms/step - loss: 6.9608e-04 - binary_accuracy: 0.9998 - val_loss: 0.4497 - val_binary_accuracy: 0.9319\n",
            "Epoch 15/20\n",
            "69/69 [==============================] - 1s 21ms/step - loss: 8.2229e-04 - binary_accuracy: 0.9998 - val_loss: 0.4550 - val_binary_accuracy: 0.9325\n",
            "Epoch 16/20\n",
            "69/69 [==============================] - 1s 21ms/step - loss: 0.0010 - binary_accuracy: 0.9997 - val_loss: 0.4580 - val_binary_accuracy: 0.9292\n",
            "Epoch 17/20\n",
            "69/69 [==============================] - 1s 20ms/step - loss: 0.0026 - binary_accuracy: 0.9993 - val_loss: 0.3885 - val_binary_accuracy: 0.9275\n",
            "Epoch 18/20\n",
            "69/69 [==============================] - 1s 20ms/step - loss: 0.0093 - binary_accuracy: 0.9974 - val_loss: 0.3773 - val_binary_accuracy: 0.9264\n",
            "Epoch 19/20\n",
            "69/69 [==============================] - 1s 20ms/step - loss: 0.0103 - binary_accuracy: 0.9968 - val_loss: 0.4022 - val_binary_accuracy: 0.9279\n",
            "Epoch 20/20\n",
            "69/69 [==============================] - 1s 20ms/step - loss: 0.0123 - binary_accuracy: 0.9963 - val_loss: 0.4188 - val_binary_accuracy: 0.9287\n"
          ]
        },
        {
          "data": {
            "image/png": "[encoded data removed]",
            "text/plain": [
              "<Figure size 640x480 with 1 Axes>"
            ]
          },
          "metadata": {},
          "output_type": "display_data"
        },
        {
          "data": {
            "image/png": "[encoded data removed]",
            "text/plain": [
              "<Figure size 640x480 with 1 Axes>"
            ]
          },
          "metadata": {},
          "output_type": "display_data"
        }
      ],
      "source": [
        "epochs = 20\n",
        "\n",
        "shallow_mlp_model = make_model()\n",
        "shallow_mlp_model.compile(\n",
        "    loss=\"binary_crossentropy\", optimizer=\"adam\", metrics=[\"binary_accuracy\"]\n",
        ")\n",
        "\n",
        "history = shallow_mlp_model.fit(\n",
        "    train_dataset, validation_data=validation_dataset, epochs=epochs\n",
        ")\n",
        "\n",
        "\n",
        "def plot_result(item):\n",
        "    plt.plot(history.history[item], label=item)\n",
        "    plt.plot(history.history[\"val_\" + item], label=\"val_\" + item)\n",
        "    plt.xlabel(\"Epochs\")\n",
        "    plt.ylabel(item)\n",
        "    plt.title(\"Train and Validation {} Over Epochs\".format(item), fontsize=14)\n",
        "    plt.legend()\n",
        "    plt.grid()\n",
        "    plt.show()\n",
        "\n",
        "\n",
        "plot_result(\"loss\")\n",
        "plot_result(\"binary_accuracy\")"
      ]
    },
    {
      "cell_type": "markdown",
      "metadata": {
        "id": "lDmjOpyecyx6"
      },
      "source": [
        "While training, we notice an initial sharp fall in the loss followed by a gradual decay."
      ]
    },
    {
      "cell_type": "markdown",
      "metadata": {
        "id": "24CkhGS_cyx7"
      },
      "source": [
        "### Evaluate the model"
      ]
    },
    {
      "cell_type": "code",
      "execution_count": 24,
      "metadata": {
        "id": "81p16tNscyx7"
      },
      "outputs": [
        {
          "name": "stdout",
          "output_type": "stream",
          "text": [
            "4/4 [==============================] - 0s 10ms/step - loss: 0.3918 - binary_accuracy: 0.9327\n",
            "Categorical accuracy on the test set: 93.27%.\n"
          ]
        }
      ],
      "source": [
        "_, binary_acc = shallow_mlp_model.evaluate(test_dataset)\n",
        "print(f\"Categorical accuracy on the test set: {round(binary_acc * 100, 2)}%.\")"
      ]
    },
    {
      "cell_type": "markdown",
      "metadata": {
        "id": "i95kzoCgcyx7"
      },
      "source": [
        "The trained model gives us an evaluation accuracy of ~99%."
      ]
    },
    {
      "cell_type": "markdown",
      "metadata": {
        "id": "8sqYZHqRcyx8"
      },
      "source": [
        "## Inference\n",
        "\n",
        "An important feature of the\n",
        "[preprocessing layers provided by Keras](https://keras.io/guides/preprocessing_layers/)\n",
        "is that they can be included inside a `tf.keras.Model`. We will export an inference model\n",
        "by including the `text_vectorization` layer on top of `shallow_mlp_model`. This will\n",
        "allow our inference model to directly operate on raw strings.\n",
        "\n",
        "**Note** that during training it is always preferable to use these preprocessing\n",
        "layers as a part of the data input pipeline rather than the model to avoid\n",
        "surfacing bottlenecks for the hardware accelerators. This also allows for\n",
        "asynchronous data processing."
      ]
    },
    {
      "cell_type": "code",
      "execution_count": 41,
      "metadata": {
        "id": "gkDd2eEQcyx8"
      },
      "outputs": [
        {
          "name": "stdout",
          "output_type": "stream",
          "text": [
            "4/4 [==============================] - 0s 5ms/step\n",
            "Abstract: b'    The Johnson  Johnson vaccine has caused blood clots in some people and some have even died'\n",
            "Label(s): ['side-effect']\n",
            " \n",
            "Abstract: b'A vaccine with no prehuman trials or peer reviewed studies was ordered by the UK government to the pharma AstraZeneca that is making 1 billion doses of that  vaccine  that will be mandatory in Europe  the Americas and India  God help us to resist such a danger'\n",
            "Label(s): ['rushed']\n",
            " \n",
            "Abstract: b'Bill Gates on Track to Grow His Fortune Through Foundations Ties to Vaccine Makers  Childrens Health Defense  10 Billion increase to his fortune during Covid Lock this man up'\n",
            "Label(s): ['pharma']\n",
            " \n",
            "Abstract: b' Have you stopped to think about the long term effects of introducing these ingredients into your DNA just BC your government tells you to Why Oh  did u know that you have no legal recourse for any  all harm done by a CovidVaccine PrepAct'\n",
            "Label(s): ['side-effect' 'ingredients']\n",
            " \n",
            "Abstract: b'   Mandatory vaccine From people who cant accurately count the deaths dont know whether Hydroxychloroquine works who send elderly people with Covid back to nursing homes You first'\n",
            "Label(s): ['side-effect' 'mandatory']\n",
            " \n",
            "Abstract: b' Any interesting input on VAERS data yet The read about fatal outcomes on frail patients is disturbing Deaths of Elderly Who Recovered From COVID19 but Died After Vaccine Raise Questions '\n",
            "Label(s): ['side-effect']\n",
            " \n",
            "Abstract: b'   Would you like me to research how many people have become infected following receipt of your precious vaccine After all that was the crux of your argumentSpoiler its a LOT more than have been reinfected having naturally acquired immunity'\n",
            "Label(s): ['ineffective']\n",
            " \n",
            "Abstract: b'According to the article the Covid 19 vaccine is safe and provides immunity for only 2 months Maybe ready by Christmas Article states that Chinese candidate may also be effective Will u take the vaccine That would be a no for me '\n",
            "Label(s): ['ineffective']\n",
            " \n",
            "Abstract: b'When Covid20 is released will we need to upgrade to Vaccine 20 And what about Covid  21 22 And each time will they do captivating keynote presentations in darkened auditoriums with pretty graphics selling the newest medical nanotechnology to be bonded with your DNA'\n",
            "Label(s): ['side-effect' 'conspiracy']\n",
            " \n",
            "Abstract: b'  Batches of Moderna vaccine was contaminated with stainless steel particles Most stainless steel is magnetic'\n",
            "Label(s): ['ingredients']\n",
            " \n",
            "Abstract: b' Thats right Please wait till we can poison you with our special vaccine'\n",
            "Label(s): ['side-effect']\n",
            " \n",
            "Abstract: b'  Im not an anti vaccine at all but there is no way in hell that I will take any vaccine that comes out of this FDA or trump administration He cant make any truthful statements and he has compromised many of the officials in these departments why would I trust it is safe'\n",
            "Label(s): ['ineffective']\n",
            " \n",
            "Abstract: b' Russian vaccine did poorly in vitro because it doesnt actually kill the virus it just makes you a better and stronger person that is unaffected by disease'\n",
            "Label(s): ['ineffective']\n",
            " \n",
            "Abstract: b'  Yes I know but it seems the UK have skipped some of these provisions especially for CoVid 19 trials They have skipped the testing on animal part went straight for the human being Thats why Im against the vaccine trials HumanGuineaPigs'\n",
            "Label(s): ['rushed']\n",
            " \n",
            "Abstract: b' Flu is a Corona virus and it doesnt go away with a vaccine why would Covid be any different The vaccine wont cure Covid Nov 4 will cure Covid'\n",
            "Label(s): ['ineffective']\n",
            " \n",
            "Abstract: b'From everything Ive read a vaccine is very unlikely Covid is basically not a respiratory disease but an immune disorder Some people have a dysfunctional immune response to the virus Theres no way to immunise this'\n",
            "Label(s): ['ineffective']\n",
            " \n",
            "Abstract: b'You will not see my ass getting a Covid vaccine I dont even believe in the flu shot '\n",
            "Label(s): ['none']\n",
            " \n",
            "Abstract: b'Analysis of recent data suggests the relative risk reduction for Pfizers vaccine to be 1929 lower than the licensing threshold50 Studies indicate COVID19 vaccines may result in more serious disease when exposed to the virus'\n",
            "Label(s): ['side-effect']\n",
            " \n",
            "Abstract: b'   Wasnt he vaccinated Well I guess the whole vaccine  AstraZeneca is all bulls bum '\n",
            "Label(s): ['ineffective']\n",
            " \n",
            "Abstract: b'I doubt China as its Wuhan warfare laboratory from where Corona leaked But the way Rochelle Pharma USA is declaring their injectionvaccine I am convinced there is Pharma Mafia behind this         '\n",
            "Label(s): ['pharma']\n",
            " \n",
            "Abstract: b'Iwillgetvaccinated absolutely not   Catching covid in a life changing way or life threatening way is almost non existent for me  I am not old obese chronically sick  A rushed out vaccine is a lot more risky to me a game of Russian roulette basically   Count me out'\n",
            "Label(s): ['rushed' 'unnecessary']\n",
            " \n",
            "Abstract: b'  Until September 2020 Had we already seen a vaccine discovered in such a short period of time Is it sane to accept that the only info at our disposal comes from Pfizer reports Do we have enough perspective on the potential side effects of this new therapy'\n",
            "Label(s): ['side-effect' 'rushed']\n",
            " \n",
            "Abstract: b' The developer is very confident is a definitive closure of debate Why is it unreasonable to note and express concern that a Corona family vaccine developed tested validated in months not years is potentially to be pushed on entire populations'\n",
            "Label(s): ['rushed' 'mandatory']\n",
            " \n",
            "Abstract: b'And even thats if you believe in this vaccine There may have been no need to vaccinate ANYONE  in fact that may cause FAR MORE PROBLEMS medium to longer term  we just dont know do we'\n",
            "Label(s): ['side-effect' 'unnecessary']\n",
            " \n",
            "Abstract: b'But it is a bad idea If Im understanding things right the vaccine doesnt stop you from getting infected with Covid it just stops it from making you sick You can still spread it'\n",
            "Label(s): ['ineffective']\n",
            " \n",
            "Abstract: b'  He has public influence because of the millions of dollars donated to WHO and other organizations He has invested millions into creating vaccine for the COVID19 Im not sure I trust his motives'\n",
            "Label(s): ['pharma']\n",
            " \n",
            "Abstract: b'   Plus if its to show that the vaccine is safe she should have joined a trial or waited fir the Moderna vaccine Whos going to show that its safe'\n",
            "Label(s): ['rushed']\n",
            " \n",
            "Abstract: b'    What you are asking for is called a live risk environment which means people have to die for the data thankfully people have a choice and not take it'\n",
            "Label(s): ['side-effect']\n",
            " \n",
            "Abstract: b'Sagarmediainc India rolling out a vaccine when we dont even have the phase 2 trial results forget about phase 3 trial resultsMore covaxin Vaccine transparency need In coming months India will be holding state elections in West Bengal Tamil Nadu Puducherry Assam Kerala '\n",
            "Label(s): ['rushed']\n",
            " \n",
            "Abstract: b' Forget the numbers If it was that deadly you wouldnt go out Its that simple I work for 872 an hour in a shop 6 days a week Dont wear a mask when Im out shopping Dont sanitize Im fine The only Russian roulette is with this vaccine People are brainwashed'\n",
            "Label(s): ['none']\n",
            " \n",
            "Abstract: b'  Chinese vaccine has 73 side effects Peru stopped the Chinese vaccine  '\n",
            "Label(s): ['side-effect']\n",
            " \n",
            "Abstract: b'    Aye course coming from people who literally worship a bloody pharmaceutical product like its Martin Luther King or Mother Theresa Get a fucking grip Pfizer are a goddam criminal enterprise provably so'\n",
            "Label(s): ['pharma']\n",
            " \n",
            "Abstract: b' I had an adverse reaction to a Pfizer medication I called them about it They sent out a mass produced form letter saying condolences on the death of your loved one They assumed I had died No way will I take the Pfizer vaccine'\n",
            "Label(s): ['side-effect']\n",
            " \n",
            "Abstract: b' Yah We will not be taking any vaccine until it is backed by WHO or some other MAJOR medicalscientific outfit NOTHING out of this administration'\n",
            "Label(s): ['political']\n",
            " \n",
            "Abstract: b' The CEO of Pfizer hasnt taken his own vaccine Stay well clear imo '\n",
            "Label(s): ['pharma']\n",
            " \n",
            "Abstract: b' Healthy people in their 20s are getting vaccinated in other states there better be some Pfizer left when its my turn bc im not getting that knockoff canal street JJ shit'\n",
            "Label(s): ['pharma']\n",
            " \n",
            "Abstract: b' I recall ScoMo saying at the start of the corona con that restrictions will be in place until at least October or until they come up with a vaccine Already talking about a vaccine before we even knew a lot about covid or if we could find any treatments All our pollies are fkd'\n",
            "Label(s): ['political']\n",
            " \n",
            "Abstract: b'    That doesnt invoke confidence Its experimental gene therapy Not even a vaccine Violates the Nuremberg Code Hard pass Enjoy'\n",
            "Label(s): ['side-effect' 'conspiracy']\n",
            " \n",
            "Abstract: b'   Or herd immunity like Sweden will soon have Vaccines are never a guarantee just look at flu or other Corona viruses'\n",
            "Label(s): ['ineffective']\n",
            " \n",
            "Abstract: b' Absolutely not When the same people proposing this stop arguing we should let people flow freely into our country then well talk Oh they should also end the double speak of claiming the vaccine works while demanding we maintain lockdowns and mask mandates'\n",
            "Label(s): ['ineffective']\n",
            " \n",
            "Abstract: b'The Vaccine Coverup and the Massive Corruption at the Top This is a Pharmaceutical Driven Agenda By Gary D Barnett  The World Health Organization WHO always suspect held a global vaccine summit in early December 2019 and some very '\n",
            "Label(s): ['pharma' 'conspiracy']\n",
            " \n",
            "Abstract: b'    Yes Because you cant prove the vaccination caused anything They will say it was coincidental Hes been released because his enzymes are trending down and his pneumonia is clearing up but he definitely had a reaction to the vaccine'\n",
            "Label(s): ['side-effect']\n",
            " \n",
            "Abstract: b'  Has he studied and followed the failed vaccines for Covid for the last 20 years Hes old enough to know about the failed animal trials even as of last year We have LIVED and STILL MAINTAINED LIFE with COVID ALL THESE YEARS OVER 20 YEARS NOW AND YOURE TRYING TO PLAY US NOW'\n",
            "Label(s): ['side-effect']\n",
            " \n",
            "Abstract: b' 2700000 Germans took AZ vaccine 31 clots ANY group of 27m some will have clots 27m injections of ANYTHING some will clot Some were on the Pill Some were health workers with Covid exposure There were clots in the PLACEBO Pfizer has BILLIONS at stake You do the math'\n",
            "Label(s): ['side-effect']\n",
            " \n",
            "Abstract: b' 2nd year med student with a sincere question  if the vaccines dont prevent infectivity and ability to carrytransmit Covid why should people who arent high risk be getting vaccinated right now I dont understand why my classmates are lining up for the vaccine'\n",
            "Label(s): ['ineffective']\n",
            " \n",
            "Abstract: b'Not good  This cannot solve with a Vaccine the backstage of COVID19'\n",
            "Label(s): ['ineffective']\n",
            " \n",
            "Abstract: b'  The BioNTech vaccine is not intended for children It was not tested on children It is intended for the age groups with the worst outcomes ie highest death rates'\n",
            "Label(s): ['side-effect']\n",
            " \n",
            "Abstract: b'Ive been flat out declining Pfizer vaccine after seeing two peoples side effects I was offered Oxford yesterday but declined it as I know of a lot of people who have had even worse side effects than Pfizer Luckily my manager was cool with it and said its my choice'\n",
            "Label(s): ['side-effect']\n",
            " \n",
            "Abstract: b'Why is Moderna given to those with severe allergic reactions who carry epipens Dr Hossein Sadrzadeh said he had a severe reaction almost immediately after being vaccinated feeling dizzy and with a racing heart '\n",
            "Label(s): ['side-effect']\n",
            " \n",
            "Abstract: b'Man double vaccinated with Pfizer is now riddled with medical issues I can barely function He urges the unvaccinated to stand their ground  NOT get the jab '\n",
            "Label(s): ['side-effect']\n",
            " \n",
            "Abstract: b'  Forcing people to get vaccinated only so that they can  may fly I find a violation of the integrity of people Vaccination should take place on a voluntary basis and not serve as a privilege to be allowed to flyLoveIsNotTourism '\n",
            "Label(s): ['mandatory']\n",
            " \n",
            "Abstract: b'So someone dies on the Covid vaccine trials and they are reporting the person died taking a placebo not the vaccine  what was the placebo heroine  you really couldnt make this shit up '\n",
            "Label(s): ['side-effect']\n",
            " \n",
            "Abstract: b' He really doesnt care if a halfbaked vaccine kills millions of Indians just so long as his ego is taken care of does he  And one can bet that he himself will ensure he takes the Oxford vaccine Its always about his ego and making some dramatic announcement  Infantile'\n",
            "Label(s): ['political']\n",
            " \n",
            "Abstract: b'  Me either If the vaccine is failing they will never let us know they wont tell us if its making people sick They act like its going to wipe this virus out They dont even know how long it would be effective for why take that chance'\n",
            "Label(s): ['side-effect']\n",
            " \n",
            "Abstract: b'Would much rather get antibody treatment IF I get Covid than take a vaccine for something I never catch Sorrento Stock Up on Report of CovidTreatment Progress  TheStreet '\n",
            "Label(s): ['unnecessary']\n",
            " \n",
            "Abstract: b'Parents should ignore Johnson and keep their children at home Clinicians should ignore Johnson and refuse to mix vaccines The nation should ignore Johnson he is not fit for purpose he cannot string a sentence together let alone do joined up thinking Time people stood together'\n",
            "Label(s): ['political']\n",
            " \n",
            "Abstract: b' The great unknown what long term effects could be associated with the vaccine as well Not saying Im against it but whats the unknown'\n",
            "Label(s): ['side-effect']\n",
            " \n",
            "Abstract: b'  It contains the vector  no one knows what that is Actually no one knows anything about the virus either  yet they have a vaccine FYI the vaccine in the UK Oxford does indeed contain the virus FYI This is the FIRST mRNA vaccine ever Longterm studies not done'\n",
            "Label(s): ['rushed' 'ingredients']\n",
            " \n",
            "Abstract: b' 28 days after second dose Not taking that damn vaccine It has 60 efficiency for the Indian variant and 66 for the UK strain Pfizer has 88 for the Indian one'\n",
            "Label(s): ['ineffective']\n",
            " \n",
            "Abstract: b'  So much propaganda evident in this video Not denying India helping on humanitarian grounds  however both the vaccines have been released without phase 3 trials How can they release a vaccine which is in clinical trial mode  AstraZeneca'\n",
            "Label(s): ['rushed']\n",
            " \n",
            "Abstract: b'   I would agree but the general public and mds seem happy to poorly tested vaccines Which one is it the Moderna that will reduce symptoms but still transmit Apply the same standards to HCQ Look at these doctorS who invent vaccines Look at what they said '\n",
            "Label(s): ['ineffective']\n",
            " \n",
            "Abstract: b'Go on TV and tell me why Pfizer is protected from recourse of the adverse reactions of Covid 19 Vaccines  WHYCovid'\n",
            "Label(s): ['side-effect']\n",
            " \n",
            "Abstract: b'From Australia COVIDs Warped Vaccines Interesting side history on Langley The author apparently was unaware that Moderna was substantially funded by DARPA and their jab engineered by NIH '\n",
            "Label(s): ['pharma']\n",
            " \n",
            "Abstract: b'You may not have any personal Rights Down Under but if you must take the Johnson and Johnson one shot no more needed  not an mRNA vaccine '\n",
            "Label(s): ['mandatory']\n",
            " \n",
            "Abstract: b'WHO are the MasterMinds behind Covid Who wants to Depopulate the Planet Earth and Force Vaccines Control Commerce FakeNews TruthOfTheMatter ExposeCorruption CDC LidFlutters LifestyleMiami '\n",
            "Label(s): ['conspiracy']\n",
            " \n",
            "Abstract: b' The Covid19 vaccine is a biological weapon A doctor and biological weapons researcher believes that vaccines against coronavirus Covid19 are a form of armed medicine or biologically controlled dangerous biological weapons against all of humanity  Said by a US DR'\n",
            "Label(s): ['conspiracy']\n",
            " \n",
            "Abstract: b'The president and the whole cabinet should be vaccinated first they should lead by example if they die first then the country will be safe if they dont die then well follow the lead VaccineforSouthAfrica COVID19SA'\n",
            "Label(s): ['side-effect' 'political']\n",
            " \n",
            "Abstract: b' I dont want your stinkin vaccine population eliminator How bout telling everyone what is in them Hmm Im waiting We have treatment for covid where ppl dont have to die Stop denying them it to get higher death rates to pretend its a pandemic Its not 9200'\n",
            "Label(s): ['conspiracy']\n",
            " \n",
            "Abstract: b'If you are 40 healthy  fit and have no conditions or situations that may put you at extra risk you dont need a vaccine for covid19 0 risk from infection High asymptomatic  If youve had covid you have immunity The vaccine may not prevent transmission or infection'\n",
            "Label(s): ['ineffective' 'unnecessary']\n",
            " \n",
            "Abstract: b'   My Dad died after the Modern vaccine Organs started shutting down Doctor said no real proof it was the vaccine He has covid in August He should not have gotten it He would still be alive had he not taken it'\n",
            "Label(s): ['side-effect']\n",
            " \n",
            "Abstract: b'Merck Scraps COVID Vaccines Says Its More Effective To Get The Virus And Recover  Summit News    yet you lot will keep pushing this untested vaccine on people  '\n",
            "Label(s): ['rushed' 'unnecessary']\n",
            " \n",
            "Abstract: b'  The all singing dancing Biontech vaccine needs a third shot what has Germany been buying hoodwinked by Pfizer  The responsibility is to make sure every one world wide as vaccination before any duff 3rd shot'\n",
            "Label(s): ['pharma']\n",
            " \n",
            "Abstract: b'  Very likely as the compliant cover their airways for long period with germ incubating rags Also almost certain well see a rise in deaths attributed to Covid but actually caused by a side effect of the vaccine'\n",
            "Label(s): ['side-effect']\n",
            " \n",
            "Abstract: b' no vaccine or drug has been approved to prevent or treat COVID19 yet Theyre available Why not approved Time for a classaction lawsuit against medical entities who knowingly hide the cure HCQ'\n",
            "Label(s): ['pharma']\n",
            " \n",
            "Abstract: b'Always a way to cheat Puzzling higher AstraZeneca vaccine efficacy for smaller dosage explained It was reportedly tested on people only under 56  RT World News '\n",
            "Label(s): ['pharma']\n",
            " \n",
            "Abstract: b'   the shingles vaccine has a worse adverse event rate than pfizers Also getting sick for a day or 2 at worse beets dying on a ventilator in a dark room without the ability to see your family'\n",
            "Label(s): ['side-effect']\n",
            " \n",
            "Abstract: b'Biontech deem themselves on a trip to world domination as it nearly seems do they really want to make half of the world population psychically and possibly physically dependent on their products Any 6 months a new shot Side effects adding up '\n",
            "Label(s): ['side-effect']\n",
            " \n",
            "Abstract: b'  I already know I wouldnt be able to go around uncle johnI wouldnt say Im antivaxx Im just open minded about it and if someone chooses to vaccine or not thats up to themI just dont know how I feel about this covid vaccine shit'\n",
            "Label(s): ['mandatory']\n",
            " \n",
            "Abstract: b' Avoiding a covid vaccine man they clearly just trying to get it out quickly'\n",
            "Label(s): ['rushed']\n",
            " \n",
            "Abstract: b'2 In particular the leak of mRNALNP was determined to be huge following a request from the Japanese Gvt The impact of the expression of mRNA in essential organs was not disclosed in particular in ovaries Pfizer vaccine'\n",
            "Label(s): ['side-effect']\n",
            " \n",
            "Abstract: b'     this Oxford collage vaccine trial is funded by GATES  he is controlling the whole show WE ARE BEING PLAYED FOR FOOLS'\n",
            "Label(s): ['rushed']\n",
            " \n",
            "Abstract: b' The trade secrets they are pouring huge amounts of money into developing Theres some really shitty incentives in the system because the second vaccine to market wont make much money So there has been some pushing of ethical rules enables by govs desperate for a vaccine'\n",
            "Label(s): ['pharma' 'political']\n",
            " \n",
            "Abstract: b'     Is anyone finding the timing of these vaccines coming out one after other in less than a yearuncanny '\n",
            "Label(s): ['rushed']\n",
            " \n",
            "Abstract: b' This is some evil shit we dont want your vaccine just let us live in peace'\n",
            "Label(s): ['none']\n",
            " \n",
            "Abstract: b'  I wear a mask in shops  have done for months and will continue to do so I am however becoming much more sceptical about the governments in the west generally Last week UK public were asked to indemnify companies like AstraZeneca for untested vaccines against claims 12 '\n",
            "Label(s): ['rushed' 'political']\n",
            " \n",
            "Abstract: b'  In some COVID19 vaccine trials control participants were injected with a saline solution as placebo Others used actual treatments eg Oxford Uni control group received a meningitis  septicaemia vaccine thus causing a realistic reaction Placebovaccine status thus unknown'\n",
            "Label(s): ['side-effect']\n",
            " \n",
            "Abstract: b'  Resist and mobilize people conscientize people to the threat of global population control that is coming  If u dont trust corona vaccine refuse it and tell other to do so'\n",
            "Label(s): ['conspiracy']\n",
            " \n",
            "Abstract: b'Moderna vaccine causes swelling for anyone with lip fillers  via '\n",
            "Label(s): ['side-effect']\n",
            " \n",
            "Abstract: b'Breaking Brews My hypothesis why vaccine by AstraZeneka is giving the sideeffects fears Count Sum of all fears Its by the storage of the vaccine If you dont freeze the liquid It will become a cake And most know what that would do if it travels through the bloodstream '\n",
            "Label(s): ['side-effect']\n",
            " \n",
            "Abstract: b'ATTENTION BE CAREFUL WITH THE VACCINES AGAINST COVID19 NOT ALL ARE ETHICAL AND MORALLY ACCEPTABLE Some like the ASTRA  ZENECA one use tissue from aborted babies SPREAD THE VOICE '\n",
            "Label(s): ['ingredients']\n",
            " \n",
            "Abstract: b'  There are no long term studies This is new technology This is the Pfizer vaccine Their data does not show that it prevents getting Covid'\n",
            "Label(s): ['ineffective']\n",
            " \n",
            "Abstract: b'UK regulator warns that people with significant allergies should not receive PfizerBioNTech vaccine Hay fever pollen cat dog peanut dust asthma etc It apparently OVERstimulates the immune system How was this not noticed in the Phase III trials Only if covered up'\n",
            "Label(s): ['side-effect']\n",
            " \n",
            "Abstract: b'Italy Two More Teachers DEAD After AstraZeneca COVID Shot55yearold Augusta Turiaco and 46yearold Cinzia Pennino both died shortly after taking the AstraZeneca experimental COVID shot '\n",
            "Label(s): ['side-effect']\n",
            " \n",
            "Abstract: b'AstraZeneca vaccine linked to slightly higher risk of blood disorder  Other vaccines pulled within a few weeks when disorders recordedwhy not this one'\n",
            "Label(s): ['side-effect']\n",
            " \n",
            "Abstract: b'Well they better do because I lost confidence on Pfizer BioNtech vaccine because it causes allergic reaction to some people There should be an alternative '\n",
            "Label(s): ['side-effect']\n",
            " \n",
            "Abstract: b'Take this vaccine Not on your life I love how when Madagascar spoke of a herbal remedy there was no interest in studying it further But now Pfizer magicks a vaccine in record time  and its roll out time What a collusion '\n",
            "Label(s): ['side-effect' 'rushed']\n",
            " \n",
            "Abstract: b' Polio and Covid19 are different diseases I dont trust a vaccine that is being rushed through testing and for a coronavirus which scientists have never been able to come up with a vaccine for before Lets be honest very few people are washing their masks'\n",
            "Label(s): ['rushed']\n",
            " \n",
            "Abstract: b' Either  is incompetent or they are deliberately trying to mislead nations about the efficacy of their adenovirus based vaccine   this is a critical moment for the TGA to show its independence  as it stands you would NOT license AZ for 65'\n",
            "Label(s): ['ineffective']\n",
            " \n",
            "Abstract: b'A Few Covid Vaccine Recipients Developed a Rare Blood Disorder Luz Legaspi was hospitalized with a severe case of immune thrombocytopenia  a lack of platelets  one day after receiving a dose of the Moderna Covid vaccine '\n",
            "Label(s): ['side-effect']\n",
            " \n",
            "Abstract: b'They cant even get hand sanitizers right but assure us the vaccine is safe '\n",
            "Label(s): ['pharma']\n",
            " \n",
            "[['side-effect'], ['mandatory'], ['pharma', 'conspiracy', 'side-effect'], ['side-effect'], ['mandatory', 'side-effect'], ['side-effect'], ['none'], ['ineffective'], ['none'], ['ingredients', 'pharma'], ['side-effect', 'conspiracy'], ['political'], ['ineffective'], ['rushed'], ['ineffective', 'unnecessary'], ['ineffective'], ['rushed', 'mandatory'], ['side-effect', 'ineffective'], ['ineffective'], ['pharma'], ['rushed'], ['side-effect'], ['rushed'], ['unnecessary'], ['ineffective'], ['pharma'], ['rushed', 'ineffective'], ['side-effect'], ['rushed'], ['none'], ['country'], ['none'], ['side-effect'], ['political'], ['none', 'side-effect'], ['none'], ['ineffective'], ['rushed', 'side-effect'], ['ineffective'], ['none', 'ineffective', 'mandatory'], ['pharma', 'political'], ['side-effect', 'political'], ['rushed'], ['side-effect'], ['ineffective'], ['unnecessary', 'country', 'rushed'], ['rushed', 'ineffective'], ['side-effect'], ['side-effect'], ['rushed'], ['mandatory', 'rushed'], ['side-effect', 'rushed'], ['side-effect', 'pharma', 'political'], ['none'], ['unnecessary'], ['none'], ['side-effect'], ['side-effect'], ['ineffective', 'political'], ['rushed'], ['rushed', 'ineffective'], ['side-effect', 'pharma', 'political'], ['pharma', 'side-effect'], ['rushed'], ['political', 'mandatory', 'conspiracy'], ['political'], ['none'], ['unnecessary'], ['ineffective', 'unnecessary'], ['side-effect'], ['rushed', 'mandatory'], ['pharma'], ['side-effect'], ['rushed'], ['ineffective', 'rushed', 'side-effect'], ['side-effect'], ['rushed', 'pharma'], ['none'], ['none', 'side-effect'], ['side-effect'], ['conspiracy', 'rushed'], ['pharma'], ['rushed', 'side-effect', 'pharma'], ['none'], ['rushed'], ['side-effect'], ['conspiracy'], ['side-effect'], ['ineffective'], ['ingredients'], ['rushed', 'ineffective'], ['side-effect'], ['side-effect'], ['side-effect'], ['side-effect'], ['pharma'], ['rushed'], ['ineffective'], ['side-effect'], ['none', 'side-effect', 'ineffective']]\n"
          ]
        }
      ],
      "source": [
        "# Create a model for inference.\n",
        "model_for_inference = keras.Sequential([text_vectorizer, shallow_mlp_model])\n",
        "\n",
        "# Create a small dataset just for demoing inference.\n",
        "inference_dataset = make_dataset(test_df.sample(100), is_train=False)\n",
        "text_batch, label_batch = next(iter(inference_dataset))\n",
        "predicted_probabilities = model_for_inference.predict(text_batch)\n",
        "y_pred = []\n",
        "# Perform inference.\n",
        "for i, text in enumerate(text_batch):\n",
        "    label = label_batch[i].numpy()[None, ...]\n",
        "    #if(len(invert_multi_hot(label[0])) == 3):\n",
        "    print(f\"Abstract: {text}\")\n",
        "    print(f\"Label(s): {invert_multi_hot(label[0])}\")\n",
        "    predicted_proba = [proba for proba in predicted_probabilities[i]]\n",
        "    top_3_labels = [\n",
        "        (h, x)\n",
        "        for h, x in sorted(\n",
        "            zip(predicted_probabilities[i], lookup.get_vocabulary()),\n",
        "            key=lambda pair: pair[0],\n",
        "            reverse=True,\n",
        "        )\n",
        "    ][:3]\n",
        "    #print(top_3_labels)\n",
        "    #delete 0.1 from each ele\n",
        "    top_3_labels = [(h, x) for h, x in top_3_labels if h > 0.1]\n",
        "    top_3_labels = [x for _, x in top_3_labels]\n",
        "    #print(f\"Predicted Label(s): ({', '.join([label for label in top_3_labels])})\")\n",
        "    print(\" \")\n",
        "    if len(top_3_labels) == 0:\n",
        "        y_pred.append([\"none\"])\n",
        "    else:\n",
        "        y_pred.append(list(top_3_labels))\n",
        "\n",
        "print(y_pred)"
      ]
    },
    {
      "cell_type": "markdown",
      "metadata": {
        "id": "rRGk6j7fcyx8"
      },
      "source": [
        "The prediction results are not that great but not below the par for a simple model like\n",
        "ours. We can improve this performance with models that consider word order like LSTM or\n",
        "even those that use Transformers ([Vaswani et al.](https://arxiv.org/abs/1706.03762))."
      ]
    },
    {
      "cell_type": "markdown",
      "metadata": {
        "id": "GKnsTojqcyx8"
      },
      "source": [
        "## Acknowledgements\n",
        "\n",
        "We would like to thank [Matt Watson](https://github.com/mattdangerw) for helping us\n",
        "tackle the multi-label binarization part and inverse-transforming the processed labels\n",
        "to the original form.\n",
        "\n",
        "Thanks [Cingis Kratochvil](https://github.com/cumbalik) for suggesting and extending\n",
        "this code example by the binary accuracy."
      ]
    }
  ],
  "metadata": {
    "accelerator": "GPU",
    "colab": {
      "name": "..\\examples\\nlp\\multi_label_classification",
      "provenance": [],
      "toc_visible": true
    },
    "kernelspec": {
      "display_name": "Python 3",
      "language": "python",
      "name": "python3"
    },
    "language_info": {
      "codemirror_mode": {
        "name": "ipython",
        "version": 3
      },
      "file_extension": ".py",
      "mimetype": "text/x-python",
      "name": "python",
      "nbconvert_exporter": "python",
      "pygments_lexer": "ipython3",
      "version": "3.9.6"
    }
  },
  "nbformat": 4,
  "nbformat_minor": 0
}
