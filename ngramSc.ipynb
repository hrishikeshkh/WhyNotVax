{
 "cells": [
  {
   "cell_type": "code",
   "execution_count": 3,
   "metadata": {},
   "outputs": [
    {
     "name": "stdout",
     "output_type": "stream",
     "text": [
      "Sc vax classify\n"
     ]
    }
   ],
   "source": [
    "print(\"Sc Vax Classify\")"
   ]
  },
  {
   "cell_type": "code",
   "execution_count": 4,
   "metadata": {},
   "outputs": [],
   "source": [
    "#drop all imports in this cell\n",
    "import pandas as pd"
   ]
  },
  {
   "cell_type": "code",
   "execution_count": 5,
   "metadata": {},
   "outputs": [
    {
     "data": {
      "text/html": [
       "<div>\n",
       "<style scoped>\n",
       "    .dataframe tbody tr th:only-of-type {\n",
       "        vertical-align: middle;\n",
       "    }\n",
       "\n",
       "    .dataframe tbody tr th {\n",
       "        vertical-align: top;\n",
       "    }\n",
       "\n",
       "    .dataframe thead th {\n",
       "        text-align: right;\n",
       "    }\n",
       "</style>\n",
       "<table border=\"1\" class=\"dataframe\">\n",
       "  <thead>\n",
       "    <tr style=\"text-align: right;\">\n",
       "      <th></th>\n",
       "      <th>ID</th>\n",
       "      <th>tweet</th>\n",
       "      <th>labels</th>\n",
       "    </tr>\n",
       "  </thead>\n",
       "  <tbody>\n",
       "    <tr>\n",
       "      <th>0</th>\n",
       "      <td>1296010336907038720t</td>\n",
       "      <td>@cath__kath AstraZeneca is made with the kidne...</td>\n",
       "      <td>ingredients</td>\n",
       "    </tr>\n",
       "    <tr>\n",
       "      <th>1</th>\n",
       "      <td>1336808189677940736t</td>\n",
       "      <td>It begins. Please find safe alternatives to th...</td>\n",
       "      <td>side-effect</td>\n",
       "    </tr>\n",
       "    <tr>\n",
       "      <th>2</th>\n",
       "      <td>1329488407307956231t</td>\n",
       "      <td>@PaolaQP1231 Well, I mean congratulations Covi...</td>\n",
       "      <td>side-effect</td>\n",
       "    </tr>\n",
       "    <tr>\n",
       "      <th>3</th>\n",
       "      <td>1364194604459900934t</td>\n",
       "      <td>@BorisJohnson for those of us that do not wish...</td>\n",
       "      <td>mandatory</td>\n",
       "    </tr>\n",
       "    <tr>\n",
       "      <th>4</th>\n",
       "      <td>1375938799247765515t</td>\n",
       "      <td>She has been trying to speak out: writing lett...</td>\n",
       "      <td>side-effect rushed</td>\n",
       "    </tr>\n",
       "  </tbody>\n",
       "</table>\n",
       "</div>"
      ],
      "text/plain": [
       "                     ID                                              tweet  \\\n",
       "0  1296010336907038720t  @cath__kath AstraZeneca is made with the kidne...   \n",
       "1  1336808189677940736t  It begins. Please find safe alternatives to th...   \n",
       "2  1329488407307956231t  @PaolaQP1231 Well, I mean congratulations Covi...   \n",
       "3  1364194604459900934t  @BorisJohnson for those of us that do not wish...   \n",
       "4  1375938799247765515t  She has been trying to speak out: writing lett...   \n",
       "\n",
       "               labels  \n",
       "0         ingredients  \n",
       "1         side-effect  \n",
       "2         side-effect  \n",
       "3           mandatory  \n",
       "4  side-effect rushed  "
      ]
     },
     "execution_count": 5,
     "metadata": {},
     "output_type": "execute_result"
    }
   ],
   "source": [
    "#get the data\n",
    "df = pd.read_csv('train_val.csv')\n",
    "df.head()"
   ]
  },
  {
   "cell_type": "code",
   "execution_count": 15,
   "metadata": {},
   "outputs": [],
   "source": [
    "#split data for each class\n",
    "'''[unnecessary]: The tweet indicates vaccines are unnecessary, or that alternate cures are better.\n",
    " - [mandatory]: Against mandatory vaccination — The tweet suggests that vaccines should not be made mandatory.\n",
    " - [pharma]: Against Big Pharma — The tweet indicates that the Big Pharmaceutical companies are just trying to earn money, or the tweet is against such companies in general because of their history.\n",
    " - [conspiracy]: Deeper Conspiracy — The tweet suggests some deeper conspiracy, and not just that the Big Pharma want to make money (e.g., vaccines are being used to track people, COVID is a hoax)\n",
    " - [political]: Political side of vaccines — The tweet expresses concerns that the governments / politicians are pushing their own agenda though the vaccines.\n",
    " - [country]: Country of origin — The tweet is against some vaccine because of the country where it was developed / manufactured\n",
    " - [rushed]: Untested / Rushed Process — The tweet expresses concerns that the vaccines have not been tested properly or that the published data is not accurate.\n",
    " - [ingredients]: Vaccine Ingredients / technology — The tweet expresses concerns about the ingredients present in the vaccines (eg. fetal cells, chemicals) or the technology used (e.g., mRNA vaccines can change your DNA)\n",
    " - [side-effect]: Side Effects / Deaths — The tweet expresses concerns about the side effects of the vaccines, including deaths caused.\n",
    " - [ineffective]: Vaccine is ineffective — The tweet expresses concerns that the vaccines are not effective enough and are useless.\n",
    " - [religious]: Religious Reasons — The tweet is against vaccines because of religious reasons\n",
    " - [none]: No specific reason stated in the tweet, or some reason other than the given ones.']'''\n",
    "\n",
    "attr = ['unnecessary', 'mandatory', 'pharma', 'conspiracy', 'political', 'country', 'rushed', 'ingredients', 'side-effect', 'ineffective', 'religious', 'none']\n",
    "\n",
    "#split data for each class\n",
    "\n",
    "# copy the df and modify such that for those rows where the string value of labels column contains 'unnecessary', set the label columnn to 1 else 0\n",
    "# make a copy of the df and set it to another variable\n",
    "df_unnecessary = df.copy()\n",
    "df_unnecessary['unnecessary'] = df_unnecessary['labels'].apply(lambda x: 1 if 'unnecessary' in x else 0)\n",
    "\n",
    "# copy the df and modify such that for those rows where the string value of labels column contains 'mandatory', set the label columnn to 1 else 0\n",
    "df_mandatory = df.copy()\n",
    "df_mandatory['mandatory'] = df_mandatory['labels'].apply(lambda x: 1 if 'mandatory' in x else 0)\n",
    "\n",
    "# copy the df and modify such that for those rows where the string value of labels column contains 'pharma', set the label columnn to 1 else 0\n",
    "df_pharma = df.copy()\n",
    "df_pharma['pharma'] = df_pharma['labels'].apply(lambda x: 1 if 'pharma' in x else 0)\n",
    "\n",
    "# copy the df and modify such that for those rows where the string value of labels column contains 'conspiracy', set the label columnn to 1 else 0\n",
    "df_conspiracy = df.copy()\n",
    "df_conspiracy['conspiracy'] = df_conspiracy['labels'].apply(lambda x: 1 if 'conspiracy' in x else 0)\n",
    "\n",
    "# copy the df and modify such that for those rows where the string value of labels column contains 'political', set the label columnn to 1 else 0\n",
    "df_political = df.copy()\n",
    "df_political['political'] = df_political['labels'].apply(lambda x: 1 if 'political' in x else 0)\n",
    "\n",
    "# copy the df and modify such that for those rows where the string value of labels column contains 'country', set the label columnn to 1 else 0\n",
    "df_country = df.copy()\n",
    "df_country['country'] = df_country['labels'].apply(lambda x: 1 if 'country' in x else 0)\n",
    "\n",
    "# copy the df and modify such that for those rows where the string value of labels column contains 'rushed', set the label columnn to 1 else 0\n",
    "df_rushed = df.copy()\n",
    "df_rushed['rushed'] = df_rushed['labels'].apply(lambda x: 1 if 'rushed' in x else 0)\n",
    "\n",
    "# copy the df and modify such that for those rows where the string value of labels column contains 'ingredients', set the label columnn to 1 else 0\n",
    "df_ingredients = df.copy()\n",
    "df_ingredients['ingredients'] = df_ingredients['labels'].apply(lambda x: 1 if 'ingredients' in x else 0)\n",
    "\n",
    "# copy the df and modify such that for those rows where the string value of labels column contains 'side-effect', set the label columnn to 1 else 0\n",
    "df_side_effect = df.copy()\n",
    "df_side_effect['side-effect'] = df_side_effect['labels'].apply(lambda x: 1 if 'side-effect' in x else 0)\n",
    "\n",
    "# copy the df and modify such that for those rows where the string value of labels column contains 'ineffective', set the label columnn to 1 else 0\n",
    "df_ineffective = df.copy()\n",
    "df_ineffective['ineffective'] = df_ineffective['labels'].apply(lambda x: 1 if 'ineffective' in x else 0)\n",
    "\n",
    "# copy the df and modify such that for those rows where the string value of labels column contains 'religious', set the label columnn to 1 else 0\n",
    "df_religious = df.copy()\n",
    "df_religious['religious'] = df_religious['labels'].apply(lambda x: 1 if 'religious' in x else 0)\n",
    "\n",
    "# copy the df and modify such that for those rows where the string value of labels column contains 'none', set the label columnn to 1 else 0\n",
    "df_none = df.copy()\n",
    "df_none['none'] = df_none['labels'].apply(lambda x: 1 if 'none' in x else 0)\n",
    "\n",
    "df_all = [df_unnecessary, df_mandatory, df_pharma, df_conspiracy, df_political, df_country, df_rushed, df_ingredients, df_side_effect, df_ineffective, df_religious, df_none]"
   ]
  },
  {
   "cell_type": "code",
   "execution_count": null,
   "metadata": {},
   "outputs": [],
   "source": []
  }
 ],
 "metadata": {
  "kernelspec": {
   "display_name": "Python 3",
   "language": "python",
   "name": "python3"
  },
  "language_info": {
   "codemirror_mode": {
    "name": "ipython",
    "version": 3
   },
   "file_extension": ".py",
   "mimetype": "text/x-python",
   "name": "python",
   "nbconvert_exporter": "python",
   "pygments_lexer": "ipython3",
   "version": "3.9.6"
  },
  "orig_nbformat": 4
 },
 "nbformat": 4,
 "nbformat_minor": 2
}
